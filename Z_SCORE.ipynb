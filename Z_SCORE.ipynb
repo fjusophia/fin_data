{
  "nbformat": 4,
  "nbformat_minor": 0,
  "metadata": {
    "colab": {
      "provenance": [],
      "authorship_tag": "ABX9TyMRnr1a2T1NGfzipwQqyMmp",
      "include_colab_link": true
    },
    "kernelspec": {
      "name": "python3",
      "display_name": "Python 3"
    },
    "language_info": {
      "name": "python"
    }
  },
  "cells": [
    {
      "cell_type": "markdown",
      "metadata": {
        "id": "view-in-github",
        "colab_type": "text"
      },
      "source": [
        "<a href=\"https://colab.research.google.com/github/fjusophia/fin_data/blob/main/Z_SCORE.ipynb\" target=\"_parent\"><img src=\"https://colab.research.google.com/assets/colab-badge.svg\" alt=\"Open In Colab\"/></a>"
      ]
    },
    {
      "cell_type": "code",
      "execution_count": 1,
      "metadata": {
        "id": "amuekXi4XsPh"
      },
      "outputs": [],
      "source": [
        "import pandas as pd\n"
      ]
    },
    {
      "cell_type": "code",
      "source": [
        "url = \"https://raw.githubusercontent.com/fjusophia/fin_data/refs/heads/main/balance_sheet.csv\""
      ],
      "metadata": {
        "id": "cC9gdBk6YMDC"
      },
      "execution_count": 4,
      "outputs": []
    },
    {
      "cell_type": "code",
      "source": [
        "df1 = pd.read_csv(url, index_col=0, encoding='unicode_escape')\n"
      ],
      "metadata": {
        "id": "pQ1VfnvAYZp1"
      },
      "execution_count": 5,
      "outputs": []
    },
    {
      "cell_type": "code",
      "source": [
        "df1\n"
      ],
      "metadata": {
        "colab": {
          "base_uri": "https://localhost:8080/",
          "height": 349
        },
        "id": "cJ1x1janYeZY",
        "outputId": "7a5f6072-c833-4416-bd41-504cf879bbcc"
      },
      "execution_count": 6,
      "outputs": [
        {
          "output_type": "execute_result",
          "data": {
            "text/plain": [
              "                YYYY/MM  Quarter consolidation  Month Currency  \\\n",
              "CO_ID                                                            \n",
              "5841 CTBC Bank  2023/12        4             Y     12      NTD   \n",
              "5854 TCB        2023/12        4             Y     12      NTD   \n",
              "\n",
              "                Total cash and cash equivalents  \\\n",
              "CO_ID                                             \n",
              "5841 CTBC Bank                       76976809.0   \n",
              "5854 TCB                             88595218.0   \n",
              "\n",
              "                Total due from the central bank and call loans to banks  \\\n",
              "CO_ID                                                                     \n",
              "5841 CTBC Bank                                        557119951.0         \n",
              "5854 TCB                                              365022666.0         \n",
              "\n",
              "                Total financial assets at fair value through profit or loss  \\\n",
              "CO_ID                                                                         \n",
              "5841 CTBC Bank                                        429175757.0             \n",
              "5854 TCB                                               75744350.0             \n",
              "\n",
              "                Derivative financial assets, net  \\\n",
              "CO_ID                                              \n",
              "5841 CTBC Bank                          298360.0   \n",
              "5854 TCB                                     0.0   \n",
              "\n",
              "                Securities purchased under resell agreements, net  ...  \\\n",
              "CO_ID                                                              ...   \n",
              "5841 CTBC Bank                                         42052943.0  ...   \n",
              "5854 TCB                                                      0.0  ...   \n",
              "\n",
              "                Unearned compensation  Other equity, others  \\\n",
              "CO_ID                                                         \n",
              "5841 CTBC Bank                    0.0                   0.0   \n",
              "5854 TCB                          0.0                   0.0   \n",
              "\n",
              "                Total other equity interest  Total Treasury shares  \\\n",
              "CO_ID                                                                \n",
              "5841 CTBC Bank                (18713225.00)                    0.0   \n",
              "5854 TCB                       (6239027.00)                    0.0   \n",
              "\n",
              "                Total equity attributable to owners of parent  \\\n",
              "CO_ID                                                           \n",
              "5841 CTBC Bank                                    357791314.0   \n",
              "5854 TCB                                          261254231.0   \n",
              "\n",
              "                Non-controlling interests  \\\n",
              "CO_ID                                       \n",
              "5841 CTBC Bank                 23520993.0   \n",
              "5854 TCB                         245038.0   \n",
              "\n",
              "                Interests in the former associate or jointly controlled entity  \\\n",
              "CO_ID                                                                            \n",
              "5841 CTBC Bank                                                0.0                \n",
              "5854 TCB                                                      0.0                \n",
              "\n",
              "                Non-controlling interest in pre-acquisition share capital  \\\n",
              "CO_ID                                                                       \n",
              "5841 CTBC Bank                                                0.0           \n",
              "5854 TCB                                                      0.0           \n",
              "\n",
              "                Total equity  Total Liabilities & Equity  \n",
              "CO_ID                                                     \n",
              "5841 CTBC Bank   381312307.0                6.046297e+09  \n",
              "5854 TCB         261499269.0                4.559923e+09  \n",
              "\n",
              "[2 rows x 74 columns]"
            ],
            "text/html": [
              "\n",
              "  <div id=\"df-3d398451-a088-45a7-abdc-b8ea3095102d\" class=\"colab-df-container\">\n",
              "    <div>\n",
              "<style scoped>\n",
              "    .dataframe tbody tr th:only-of-type {\n",
              "        vertical-align: middle;\n",
              "    }\n",
              "\n",
              "    .dataframe tbody tr th {\n",
              "        vertical-align: top;\n",
              "    }\n",
              "\n",
              "    .dataframe thead th {\n",
              "        text-align: right;\n",
              "    }\n",
              "</style>\n",
              "<table border=\"1\" class=\"dataframe\">\n",
              "  <thead>\n",
              "    <tr style=\"text-align: right;\">\n",
              "      <th></th>\n",
              "      <th>YYYY/MM</th>\n",
              "      <th>Quarter</th>\n",
              "      <th>consolidation</th>\n",
              "      <th>Month</th>\n",
              "      <th>Currency</th>\n",
              "      <th>Total cash and cash equivalents</th>\n",
              "      <th>Total due from the central bank and call loans to banks</th>\n",
              "      <th>Total financial assets at fair value through profit or loss</th>\n",
              "      <th>Derivative financial assets, net</th>\n",
              "      <th>Securities purchased under resell agreements, net</th>\n",
              "      <th>...</th>\n",
              "      <th>Unearned compensation</th>\n",
              "      <th>Other equity, others</th>\n",
              "      <th>Total other equity interest</th>\n",
              "      <th>Total Treasury shares</th>\n",
              "      <th>Total equity attributable to owners of parent</th>\n",
              "      <th>Non-controlling interests</th>\n",
              "      <th>Interests in the former associate or jointly controlled entity</th>\n",
              "      <th>Non-controlling interest in pre-acquisition share capital</th>\n",
              "      <th>Total equity</th>\n",
              "      <th>Total Liabilities &amp; Equity</th>\n",
              "    </tr>\n",
              "    <tr>\n",
              "      <th>CO_ID</th>\n",
              "      <th></th>\n",
              "      <th></th>\n",
              "      <th></th>\n",
              "      <th></th>\n",
              "      <th></th>\n",
              "      <th></th>\n",
              "      <th></th>\n",
              "      <th></th>\n",
              "      <th></th>\n",
              "      <th></th>\n",
              "      <th></th>\n",
              "      <th></th>\n",
              "      <th></th>\n",
              "      <th></th>\n",
              "      <th></th>\n",
              "      <th></th>\n",
              "      <th></th>\n",
              "      <th></th>\n",
              "      <th></th>\n",
              "      <th></th>\n",
              "      <th></th>\n",
              "    </tr>\n",
              "  </thead>\n",
              "  <tbody>\n",
              "    <tr>\n",
              "      <th>5841 CTBC Bank</th>\n",
              "      <td>2023/12</td>\n",
              "      <td>4</td>\n",
              "      <td>Y</td>\n",
              "      <td>12</td>\n",
              "      <td>NTD</td>\n",
              "      <td>76976809.0</td>\n",
              "      <td>557119951.0</td>\n",
              "      <td>429175757.0</td>\n",
              "      <td>298360.0</td>\n",
              "      <td>42052943.0</td>\n",
              "      <td>...</td>\n",
              "      <td>0.0</td>\n",
              "      <td>0.0</td>\n",
              "      <td>(18713225.00)</td>\n",
              "      <td>0.0</td>\n",
              "      <td>357791314.0</td>\n",
              "      <td>23520993.0</td>\n",
              "      <td>0.0</td>\n",
              "      <td>0.0</td>\n",
              "      <td>381312307.0</td>\n",
              "      <td>6.046297e+09</td>\n",
              "    </tr>\n",
              "    <tr>\n",
              "      <th>5854 TCB</th>\n",
              "      <td>2023/12</td>\n",
              "      <td>4</td>\n",
              "      <td>Y</td>\n",
              "      <td>12</td>\n",
              "      <td>NTD</td>\n",
              "      <td>88595218.0</td>\n",
              "      <td>365022666.0</td>\n",
              "      <td>75744350.0</td>\n",
              "      <td>0.0</td>\n",
              "      <td>0.0</td>\n",
              "      <td>...</td>\n",
              "      <td>0.0</td>\n",
              "      <td>0.0</td>\n",
              "      <td>(6239027.00)</td>\n",
              "      <td>0.0</td>\n",
              "      <td>261254231.0</td>\n",
              "      <td>245038.0</td>\n",
              "      <td>0.0</td>\n",
              "      <td>0.0</td>\n",
              "      <td>261499269.0</td>\n",
              "      <td>4.559923e+09</td>\n",
              "    </tr>\n",
              "  </tbody>\n",
              "</table>\n",
              "<p>2 rows × 74 columns</p>\n",
              "</div>\n",
              "    <div class=\"colab-df-buttons\">\n",
              "\n",
              "  <div class=\"colab-df-container\">\n",
              "    <button class=\"colab-df-convert\" onclick=\"convertToInteractive('df-3d398451-a088-45a7-abdc-b8ea3095102d')\"\n",
              "            title=\"Convert this dataframe to an interactive table.\"\n",
              "            style=\"display:none;\">\n",
              "\n",
              "  <svg xmlns=\"http://www.w3.org/2000/svg\" height=\"24px\" viewBox=\"0 -960 960 960\">\n",
              "    <path d=\"M120-120v-720h720v720H120Zm60-500h600v-160H180v160Zm220 220h160v-160H400v160Zm0 220h160v-160H400v160ZM180-400h160v-160H180v160Zm440 0h160v-160H620v160ZM180-180h160v-160H180v160Zm440 0h160v-160H620v160Z\"/>\n",
              "  </svg>\n",
              "    </button>\n",
              "\n",
              "  <style>\n",
              "    .colab-df-container {\n",
              "      display:flex;\n",
              "      gap: 12px;\n",
              "    }\n",
              "\n",
              "    .colab-df-convert {\n",
              "      background-color: #E8F0FE;\n",
              "      border: none;\n",
              "      border-radius: 50%;\n",
              "      cursor: pointer;\n",
              "      display: none;\n",
              "      fill: #1967D2;\n",
              "      height: 32px;\n",
              "      padding: 0 0 0 0;\n",
              "      width: 32px;\n",
              "    }\n",
              "\n",
              "    .colab-df-convert:hover {\n",
              "      background-color: #E2EBFA;\n",
              "      box-shadow: 0px 1px 2px rgba(60, 64, 67, 0.3), 0px 1px 3px 1px rgba(60, 64, 67, 0.15);\n",
              "      fill: #174EA6;\n",
              "    }\n",
              "\n",
              "    .colab-df-buttons div {\n",
              "      margin-bottom: 4px;\n",
              "    }\n",
              "\n",
              "    [theme=dark] .colab-df-convert {\n",
              "      background-color: #3B4455;\n",
              "      fill: #D2E3FC;\n",
              "    }\n",
              "\n",
              "    [theme=dark] .colab-df-convert:hover {\n",
              "      background-color: #434B5C;\n",
              "      box-shadow: 0px 1px 3px 1px rgba(0, 0, 0, 0.15);\n",
              "      filter: drop-shadow(0px 1px 2px rgba(0, 0, 0, 0.3));\n",
              "      fill: #FFFFFF;\n",
              "    }\n",
              "  </style>\n",
              "\n",
              "    <script>\n",
              "      const buttonEl =\n",
              "        document.querySelector('#df-3d398451-a088-45a7-abdc-b8ea3095102d button.colab-df-convert');\n",
              "      buttonEl.style.display =\n",
              "        google.colab.kernel.accessAllowed ? 'block' : 'none';\n",
              "\n",
              "      async function convertToInteractive(key) {\n",
              "        const element = document.querySelector('#df-3d398451-a088-45a7-abdc-b8ea3095102d');\n",
              "        const dataTable =\n",
              "          await google.colab.kernel.invokeFunction('convertToInteractive',\n",
              "                                                    [key], {});\n",
              "        if (!dataTable) return;\n",
              "\n",
              "        const docLinkHtml = 'Like what you see? Visit the ' +\n",
              "          '<a target=\"_blank\" href=https://colab.research.google.com/notebooks/data_table.ipynb>data table notebook</a>'\n",
              "          + ' to learn more about interactive tables.';\n",
              "        element.innerHTML = '';\n",
              "        dataTable['output_type'] = 'display_data';\n",
              "        await google.colab.output.renderOutput(dataTable, element);\n",
              "        const docLink = document.createElement('div');\n",
              "        docLink.innerHTML = docLinkHtml;\n",
              "        element.appendChild(docLink);\n",
              "      }\n",
              "    </script>\n",
              "  </div>\n",
              "\n",
              "\n",
              "<div id=\"df-90cc5046-e200-4818-a091-5a69f57d26c0\">\n",
              "  <button class=\"colab-df-quickchart\" onclick=\"quickchart('df-90cc5046-e200-4818-a091-5a69f57d26c0')\"\n",
              "            title=\"Suggest charts\"\n",
              "            style=\"display:none;\">\n",
              "\n",
              "<svg xmlns=\"http://www.w3.org/2000/svg\" height=\"24px\"viewBox=\"0 0 24 24\"\n",
              "     width=\"24px\">\n",
              "    <g>\n",
              "        <path d=\"M19 3H5c-1.1 0-2 .9-2 2v14c0 1.1.9 2 2 2h14c1.1 0 2-.9 2-2V5c0-1.1-.9-2-2-2zM9 17H7v-7h2v7zm4 0h-2V7h2v10zm4 0h-2v-4h2v4z\"/>\n",
              "    </g>\n",
              "</svg>\n",
              "  </button>\n",
              "\n",
              "<style>\n",
              "  .colab-df-quickchart {\n",
              "      --bg-color: #E8F0FE;\n",
              "      --fill-color: #1967D2;\n",
              "      --hover-bg-color: #E2EBFA;\n",
              "      --hover-fill-color: #174EA6;\n",
              "      --disabled-fill-color: #AAA;\n",
              "      --disabled-bg-color: #DDD;\n",
              "  }\n",
              "\n",
              "  [theme=dark] .colab-df-quickchart {\n",
              "      --bg-color: #3B4455;\n",
              "      --fill-color: #D2E3FC;\n",
              "      --hover-bg-color: #434B5C;\n",
              "      --hover-fill-color: #FFFFFF;\n",
              "      --disabled-bg-color: #3B4455;\n",
              "      --disabled-fill-color: #666;\n",
              "  }\n",
              "\n",
              "  .colab-df-quickchart {\n",
              "    background-color: var(--bg-color);\n",
              "    border: none;\n",
              "    border-radius: 50%;\n",
              "    cursor: pointer;\n",
              "    display: none;\n",
              "    fill: var(--fill-color);\n",
              "    height: 32px;\n",
              "    padding: 0;\n",
              "    width: 32px;\n",
              "  }\n",
              "\n",
              "  .colab-df-quickchart:hover {\n",
              "    background-color: var(--hover-bg-color);\n",
              "    box-shadow: 0 1px 2px rgba(60, 64, 67, 0.3), 0 1px 3px 1px rgba(60, 64, 67, 0.15);\n",
              "    fill: var(--button-hover-fill-color);\n",
              "  }\n",
              "\n",
              "  .colab-df-quickchart-complete:disabled,\n",
              "  .colab-df-quickchart-complete:disabled:hover {\n",
              "    background-color: var(--disabled-bg-color);\n",
              "    fill: var(--disabled-fill-color);\n",
              "    box-shadow: none;\n",
              "  }\n",
              "\n",
              "  .colab-df-spinner {\n",
              "    border: 2px solid var(--fill-color);\n",
              "    border-color: transparent;\n",
              "    border-bottom-color: var(--fill-color);\n",
              "    animation:\n",
              "      spin 1s steps(1) infinite;\n",
              "  }\n",
              "\n",
              "  @keyframes spin {\n",
              "    0% {\n",
              "      border-color: transparent;\n",
              "      border-bottom-color: var(--fill-color);\n",
              "      border-left-color: var(--fill-color);\n",
              "    }\n",
              "    20% {\n",
              "      border-color: transparent;\n",
              "      border-left-color: var(--fill-color);\n",
              "      border-top-color: var(--fill-color);\n",
              "    }\n",
              "    30% {\n",
              "      border-color: transparent;\n",
              "      border-left-color: var(--fill-color);\n",
              "      border-top-color: var(--fill-color);\n",
              "      border-right-color: var(--fill-color);\n",
              "    }\n",
              "    40% {\n",
              "      border-color: transparent;\n",
              "      border-right-color: var(--fill-color);\n",
              "      border-top-color: var(--fill-color);\n",
              "    }\n",
              "    60% {\n",
              "      border-color: transparent;\n",
              "      border-right-color: var(--fill-color);\n",
              "    }\n",
              "    80% {\n",
              "      border-color: transparent;\n",
              "      border-right-color: var(--fill-color);\n",
              "      border-bottom-color: var(--fill-color);\n",
              "    }\n",
              "    90% {\n",
              "      border-color: transparent;\n",
              "      border-bottom-color: var(--fill-color);\n",
              "    }\n",
              "  }\n",
              "</style>\n",
              "\n",
              "  <script>\n",
              "    async function quickchart(key) {\n",
              "      const quickchartButtonEl =\n",
              "        document.querySelector('#' + key + ' button');\n",
              "      quickchartButtonEl.disabled = true;  // To prevent multiple clicks.\n",
              "      quickchartButtonEl.classList.add('colab-df-spinner');\n",
              "      try {\n",
              "        const charts = await google.colab.kernel.invokeFunction(\n",
              "            'suggestCharts', [key], {});\n",
              "      } catch (error) {\n",
              "        console.error('Error during call to suggestCharts:', error);\n",
              "      }\n",
              "      quickchartButtonEl.classList.remove('colab-df-spinner');\n",
              "      quickchartButtonEl.classList.add('colab-df-quickchart-complete');\n",
              "    }\n",
              "    (() => {\n",
              "      let quickchartButtonEl =\n",
              "        document.querySelector('#df-90cc5046-e200-4818-a091-5a69f57d26c0 button');\n",
              "      quickchartButtonEl.style.display =\n",
              "        google.colab.kernel.accessAllowed ? 'block' : 'none';\n",
              "    })();\n",
              "  </script>\n",
              "</div>\n",
              "\n",
              "  <div id=\"id_6f32ef0e-683d-45df-aa1c-088fb15477cb\">\n",
              "    <style>\n",
              "      .colab-df-generate {\n",
              "        background-color: #E8F0FE;\n",
              "        border: none;\n",
              "        border-radius: 50%;\n",
              "        cursor: pointer;\n",
              "        display: none;\n",
              "        fill: #1967D2;\n",
              "        height: 32px;\n",
              "        padding: 0 0 0 0;\n",
              "        width: 32px;\n",
              "      }\n",
              "\n",
              "      .colab-df-generate:hover {\n",
              "        background-color: #E2EBFA;\n",
              "        box-shadow: 0px 1px 2px rgba(60, 64, 67, 0.3), 0px 1px 3px 1px rgba(60, 64, 67, 0.15);\n",
              "        fill: #174EA6;\n",
              "      }\n",
              "\n",
              "      [theme=dark] .colab-df-generate {\n",
              "        background-color: #3B4455;\n",
              "        fill: #D2E3FC;\n",
              "      }\n",
              "\n",
              "      [theme=dark] .colab-df-generate:hover {\n",
              "        background-color: #434B5C;\n",
              "        box-shadow: 0px 1px 3px 1px rgba(0, 0, 0, 0.15);\n",
              "        filter: drop-shadow(0px 1px 2px rgba(0, 0, 0, 0.3));\n",
              "        fill: #FFFFFF;\n",
              "      }\n",
              "    </style>\n",
              "    <button class=\"colab-df-generate\" onclick=\"generateWithVariable('df1')\"\n",
              "            title=\"Generate code using this dataframe.\"\n",
              "            style=\"display:none;\">\n",
              "\n",
              "  <svg xmlns=\"http://www.w3.org/2000/svg\" height=\"24px\"viewBox=\"0 0 24 24\"\n",
              "       width=\"24px\">\n",
              "    <path d=\"M7,19H8.4L18.45,9,17,7.55,7,17.6ZM5,21V16.75L18.45,3.32a2,2,0,0,1,2.83,0l1.4,1.43a1.91,1.91,0,0,1,.58,1.4,1.91,1.91,0,0,1-.58,1.4L9.25,21ZM18.45,9,17,7.55Zm-12,3A5.31,5.31,0,0,0,4.9,8.1,5.31,5.31,0,0,0,1,6.5,5.31,5.31,0,0,0,4.9,4.9,5.31,5.31,0,0,0,6.5,1,5.31,5.31,0,0,0,8.1,4.9,5.31,5.31,0,0,0,12,6.5,5.46,5.46,0,0,0,6.5,12Z\"/>\n",
              "  </svg>\n",
              "    </button>\n",
              "    <script>\n",
              "      (() => {\n",
              "      const buttonEl =\n",
              "        document.querySelector('#id_6f32ef0e-683d-45df-aa1c-088fb15477cb button.colab-df-generate');\n",
              "      buttonEl.style.display =\n",
              "        google.colab.kernel.accessAllowed ? 'block' : 'none';\n",
              "\n",
              "      buttonEl.onclick = () => {\n",
              "        google.colab.notebook.generateWithVariable('df1');\n",
              "      }\n",
              "      })();\n",
              "    </script>\n",
              "  </div>\n",
              "\n",
              "    </div>\n",
              "  </div>\n"
            ],
            "application/vnd.google.colaboratory.intrinsic+json": {
              "type": "dataframe",
              "variable_name": "df1"
            }
          },
          "metadata": {},
          "execution_count": 6
        }
      ]
    },
    {
      "cell_type": "code",
      "source": [
        "url = \"https://raw.githubusercontent.com/fjusophia/fin_data/refs/heads/main/income_statement.csv\"\n"
      ],
      "metadata": {
        "id": "20rQq3zSYxo_"
      },
      "execution_count": 7,
      "outputs": []
    },
    {
      "cell_type": "code",
      "source": [
        "df2 = pd.read_csv(url, index_col=0, encoding='unicode_escape')\n"
      ],
      "metadata": {
        "id": "dSX2AfbMY6_7"
      },
      "execution_count": 8,
      "outputs": []
    },
    {
      "cell_type": "code",
      "source": [
        "df2\n"
      ],
      "metadata": {
        "colab": {
          "base_uri": "https://localhost:8080/",
          "height": 366
        },
        "id": "dCERwv8uY9mu",
        "outputId": "5337f0eb-79eb-48b7-b792-11c658dfbc24"
      },
      "execution_count": 9,
      "outputs": [
        {
          "output_type": "execute_result",
          "data": {
            "text/plain": [
              "                YYYY/MM  Quarter consolidation  Month Currency  \\\n",
              "CO_ID                                                            \n",
              "5841 CTBC Bank  2023/12        4             Y     12      NTD   \n",
              "5854 TCB        2023/12        4             Y     12      NTD   \n",
              "\n",
              "                Total interest income  Total interest expenses  \\\n",
              "CO_ID                                                            \n",
              "5841 CTBC Bank            163589766.0               85810569.0   \n",
              "5854 TCB                   91681188.0               59666961.0   \n",
              "\n",
              "                Net income (loss) of interest  Net non-interest income (loss)  \\\n",
              "CO_ID                                                                           \n",
              "5841 CTBC Bank                     77779197.0                      60016272.0   \n",
              "5854 TCB                           32014227.0                      22499748.0   \n",
              "\n",
              "                Net service fee (charge) income (losses)  ...  \\\n",
              "CO_ID                                                     ...   \n",
              "5841 CTBC Bank                                39170830.0  ...   \n",
              "5854 TCB                                       7623030.0  ...   \n",
              "\n",
              "                Comprehensive income, attributable to non-controlling interest in pre-aquisition  \\\n",
              "CO_ID                                                                                              \n",
              "5841 CTBC Bank                                                0.0                                  \n",
              "5854 TCB                                                      0.0                                  \n",
              "\n",
              "                Total primary earnings per share  \\\n",
              "CO_ID                                              \n",
              "5841 CTBC Bank                              2.79   \n",
              "5854 TCB                                    1.48   \n",
              "\n",
              "                Average common shares (Thousand)  Preferred Stock Dividend  \\\n",
              "CO_ID                                                                        \n",
              "5841 CTBC Bank                        14796218.0                       0.0   \n",
              "5854 TCB                              11007530.0                       0.0   \n",
              "\n",
              "                Diluted Net Income Total diluted earnings per share  \\\n",
              "CO_ID                                                                 \n",
              "5841 CTBC Bank          41332709.0                             2.79   \n",
              "5854 TCB                16302624.0                             1.48   \n",
              "\n",
              "                Average Diluted common shares (Thousand)  \\\n",
              "CO_ID                                                      \n",
              "5841 CTBC Bank                                14796218.0   \n",
              "5854 TCB                                      11007530.0   \n",
              "\n",
              "               Earnings Before Interest and Tax  \\\n",
              "CO_ID                                             \n",
              "5841 CTBC Bank                      138835472.0   \n",
              "5854 TCB                             79823211.0   \n",
              "\n",
              "                Earnings Before Interest, Tax and Depreciation  \\\n",
              "CO_ID                                                            \n",
              "5841 CTBC Bank                                     146044710.0   \n",
              "5854 TCB                                            82285285.0   \n",
              "\n",
              "                Net Income -Exclude Disposal Gain or Loss  \n",
              "CO_ID                                                      \n",
              "5841 CTBC Bank                                 42786836.0  \n",
              "5854 TCB                                       16302591.0  \n",
              "\n",
              "[2 rows x 86 columns]"
            ],
            "text/html": [
              "\n",
              "  <div id=\"df-661a6977-8580-4d92-8eda-794f7bfc04fb\" class=\"colab-df-container\">\n",
              "    <div>\n",
              "<style scoped>\n",
              "    .dataframe tbody tr th:only-of-type {\n",
              "        vertical-align: middle;\n",
              "    }\n",
              "\n",
              "    .dataframe tbody tr th {\n",
              "        vertical-align: top;\n",
              "    }\n",
              "\n",
              "    .dataframe thead th {\n",
              "        text-align: right;\n",
              "    }\n",
              "</style>\n",
              "<table border=\"1\" class=\"dataframe\">\n",
              "  <thead>\n",
              "    <tr style=\"text-align: right;\">\n",
              "      <th></th>\n",
              "      <th>YYYY/MM</th>\n",
              "      <th>Quarter</th>\n",
              "      <th>consolidation</th>\n",
              "      <th>Month</th>\n",
              "      <th>Currency</th>\n",
              "      <th>Total interest income</th>\n",
              "      <th>Total interest expenses</th>\n",
              "      <th>Net income (loss) of interest</th>\n",
              "      <th>Net non-interest income (loss)</th>\n",
              "      <th>Net service fee (charge) income (losses)</th>\n",
              "      <th>...</th>\n",
              "      <th>Comprehensive income, attributable to non-controlling interest in pre-aquisition</th>\n",
              "      <th>Total primary earnings per share</th>\n",
              "      <th>Average common shares (Thousand)</th>\n",
              "      <th>Preferred Stock Dividend</th>\n",
              "      <th>Diluted Net Income</th>\n",
              "      <th>Total diluted earnings per share</th>\n",
              "      <th>Average Diluted common shares (Thousand)</th>\n",
              "      <th>Earnings Before Interest and Tax</th>\n",
              "      <th>Earnings Before Interest, Tax and Depreciation</th>\n",
              "      <th>Net Income -Exclude Disposal Gain or Loss</th>\n",
              "    </tr>\n",
              "    <tr>\n",
              "      <th>CO_ID</th>\n",
              "      <th></th>\n",
              "      <th></th>\n",
              "      <th></th>\n",
              "      <th></th>\n",
              "      <th></th>\n",
              "      <th></th>\n",
              "      <th></th>\n",
              "      <th></th>\n",
              "      <th></th>\n",
              "      <th></th>\n",
              "      <th></th>\n",
              "      <th></th>\n",
              "      <th></th>\n",
              "      <th></th>\n",
              "      <th></th>\n",
              "      <th></th>\n",
              "      <th></th>\n",
              "      <th></th>\n",
              "      <th></th>\n",
              "      <th></th>\n",
              "      <th></th>\n",
              "    </tr>\n",
              "  </thead>\n",
              "  <tbody>\n",
              "    <tr>\n",
              "      <th>5841 CTBC Bank</th>\n",
              "      <td>2023/12</td>\n",
              "      <td>4</td>\n",
              "      <td>Y</td>\n",
              "      <td>12</td>\n",
              "      <td>NTD</td>\n",
              "      <td>163589766.0</td>\n",
              "      <td>85810569.0</td>\n",
              "      <td>77779197.0</td>\n",
              "      <td>60016272.0</td>\n",
              "      <td>39170830.0</td>\n",
              "      <td>...</td>\n",
              "      <td>0.0</td>\n",
              "      <td>2.79</td>\n",
              "      <td>14796218.0</td>\n",
              "      <td>0.0</td>\n",
              "      <td>41332709.0</td>\n",
              "      <td>2.79</td>\n",
              "      <td>14796218.0</td>\n",
              "      <td>138835472.0</td>\n",
              "      <td>146044710.0</td>\n",
              "      <td>42786836.0</td>\n",
              "    </tr>\n",
              "    <tr>\n",
              "      <th>5854 TCB</th>\n",
              "      <td>2023/12</td>\n",
              "      <td>4</td>\n",
              "      <td>Y</td>\n",
              "      <td>12</td>\n",
              "      <td>NTD</td>\n",
              "      <td>91681188.0</td>\n",
              "      <td>59666961.0</td>\n",
              "      <td>32014227.0</td>\n",
              "      <td>22499748.0</td>\n",
              "      <td>7623030.0</td>\n",
              "      <td>...</td>\n",
              "      <td>0.0</td>\n",
              "      <td>1.48</td>\n",
              "      <td>11007530.0</td>\n",
              "      <td>0.0</td>\n",
              "      <td>16302624.0</td>\n",
              "      <td>1.48</td>\n",
              "      <td>11007530.0</td>\n",
              "      <td>79823211.0</td>\n",
              "      <td>82285285.0</td>\n",
              "      <td>16302591.0</td>\n",
              "    </tr>\n",
              "  </tbody>\n",
              "</table>\n",
              "<p>2 rows × 86 columns</p>\n",
              "</div>\n",
              "    <div class=\"colab-df-buttons\">\n",
              "\n",
              "  <div class=\"colab-df-container\">\n",
              "    <button class=\"colab-df-convert\" onclick=\"convertToInteractive('df-661a6977-8580-4d92-8eda-794f7bfc04fb')\"\n",
              "            title=\"Convert this dataframe to an interactive table.\"\n",
              "            style=\"display:none;\">\n",
              "\n",
              "  <svg xmlns=\"http://www.w3.org/2000/svg\" height=\"24px\" viewBox=\"0 -960 960 960\">\n",
              "    <path d=\"M120-120v-720h720v720H120Zm60-500h600v-160H180v160Zm220 220h160v-160H400v160Zm0 220h160v-160H400v160ZM180-400h160v-160H180v160Zm440 0h160v-160H620v160ZM180-180h160v-160H180v160Zm440 0h160v-160H620v160Z\"/>\n",
              "  </svg>\n",
              "    </button>\n",
              "\n",
              "  <style>\n",
              "    .colab-df-container {\n",
              "      display:flex;\n",
              "      gap: 12px;\n",
              "    }\n",
              "\n",
              "    .colab-df-convert {\n",
              "      background-color: #E8F0FE;\n",
              "      border: none;\n",
              "      border-radius: 50%;\n",
              "      cursor: pointer;\n",
              "      display: none;\n",
              "      fill: #1967D2;\n",
              "      height: 32px;\n",
              "      padding: 0 0 0 0;\n",
              "      width: 32px;\n",
              "    }\n",
              "\n",
              "    .colab-df-convert:hover {\n",
              "      background-color: #E2EBFA;\n",
              "      box-shadow: 0px 1px 2px rgba(60, 64, 67, 0.3), 0px 1px 3px 1px rgba(60, 64, 67, 0.15);\n",
              "      fill: #174EA6;\n",
              "    }\n",
              "\n",
              "    .colab-df-buttons div {\n",
              "      margin-bottom: 4px;\n",
              "    }\n",
              "\n",
              "    [theme=dark] .colab-df-convert {\n",
              "      background-color: #3B4455;\n",
              "      fill: #D2E3FC;\n",
              "    }\n",
              "\n",
              "    [theme=dark] .colab-df-convert:hover {\n",
              "      background-color: #434B5C;\n",
              "      box-shadow: 0px 1px 3px 1px rgba(0, 0, 0, 0.15);\n",
              "      filter: drop-shadow(0px 1px 2px rgba(0, 0, 0, 0.3));\n",
              "      fill: #FFFFFF;\n",
              "    }\n",
              "  </style>\n",
              "\n",
              "    <script>\n",
              "      const buttonEl =\n",
              "        document.querySelector('#df-661a6977-8580-4d92-8eda-794f7bfc04fb button.colab-df-convert');\n",
              "      buttonEl.style.display =\n",
              "        google.colab.kernel.accessAllowed ? 'block' : 'none';\n",
              "\n",
              "      async function convertToInteractive(key) {\n",
              "        const element = document.querySelector('#df-661a6977-8580-4d92-8eda-794f7bfc04fb');\n",
              "        const dataTable =\n",
              "          await google.colab.kernel.invokeFunction('convertToInteractive',\n",
              "                                                    [key], {});\n",
              "        if (!dataTable) return;\n",
              "\n",
              "        const docLinkHtml = 'Like what you see? Visit the ' +\n",
              "          '<a target=\"_blank\" href=https://colab.research.google.com/notebooks/data_table.ipynb>data table notebook</a>'\n",
              "          + ' to learn more about interactive tables.';\n",
              "        element.innerHTML = '';\n",
              "        dataTable['output_type'] = 'display_data';\n",
              "        await google.colab.output.renderOutput(dataTable, element);\n",
              "        const docLink = document.createElement('div');\n",
              "        docLink.innerHTML = docLinkHtml;\n",
              "        element.appendChild(docLink);\n",
              "      }\n",
              "    </script>\n",
              "  </div>\n",
              "\n",
              "\n",
              "<div id=\"df-2d03190f-973a-4bd0-a1d5-c0e3da5d626d\">\n",
              "  <button class=\"colab-df-quickchart\" onclick=\"quickchart('df-2d03190f-973a-4bd0-a1d5-c0e3da5d626d')\"\n",
              "            title=\"Suggest charts\"\n",
              "            style=\"display:none;\">\n",
              "\n",
              "<svg xmlns=\"http://www.w3.org/2000/svg\" height=\"24px\"viewBox=\"0 0 24 24\"\n",
              "     width=\"24px\">\n",
              "    <g>\n",
              "        <path d=\"M19 3H5c-1.1 0-2 .9-2 2v14c0 1.1.9 2 2 2h14c1.1 0 2-.9 2-2V5c0-1.1-.9-2-2-2zM9 17H7v-7h2v7zm4 0h-2V7h2v10zm4 0h-2v-4h2v4z\"/>\n",
              "    </g>\n",
              "</svg>\n",
              "  </button>\n",
              "\n",
              "<style>\n",
              "  .colab-df-quickchart {\n",
              "      --bg-color: #E8F0FE;\n",
              "      --fill-color: #1967D2;\n",
              "      --hover-bg-color: #E2EBFA;\n",
              "      --hover-fill-color: #174EA6;\n",
              "      --disabled-fill-color: #AAA;\n",
              "      --disabled-bg-color: #DDD;\n",
              "  }\n",
              "\n",
              "  [theme=dark] .colab-df-quickchart {\n",
              "      --bg-color: #3B4455;\n",
              "      --fill-color: #D2E3FC;\n",
              "      --hover-bg-color: #434B5C;\n",
              "      --hover-fill-color: #FFFFFF;\n",
              "      --disabled-bg-color: #3B4455;\n",
              "      --disabled-fill-color: #666;\n",
              "  }\n",
              "\n",
              "  .colab-df-quickchart {\n",
              "    background-color: var(--bg-color);\n",
              "    border: none;\n",
              "    border-radius: 50%;\n",
              "    cursor: pointer;\n",
              "    display: none;\n",
              "    fill: var(--fill-color);\n",
              "    height: 32px;\n",
              "    padding: 0;\n",
              "    width: 32px;\n",
              "  }\n",
              "\n",
              "  .colab-df-quickchart:hover {\n",
              "    background-color: var(--hover-bg-color);\n",
              "    box-shadow: 0 1px 2px rgba(60, 64, 67, 0.3), 0 1px 3px 1px rgba(60, 64, 67, 0.15);\n",
              "    fill: var(--button-hover-fill-color);\n",
              "  }\n",
              "\n",
              "  .colab-df-quickchart-complete:disabled,\n",
              "  .colab-df-quickchart-complete:disabled:hover {\n",
              "    background-color: var(--disabled-bg-color);\n",
              "    fill: var(--disabled-fill-color);\n",
              "    box-shadow: none;\n",
              "  }\n",
              "\n",
              "  .colab-df-spinner {\n",
              "    border: 2px solid var(--fill-color);\n",
              "    border-color: transparent;\n",
              "    border-bottom-color: var(--fill-color);\n",
              "    animation:\n",
              "      spin 1s steps(1) infinite;\n",
              "  }\n",
              "\n",
              "  @keyframes spin {\n",
              "    0% {\n",
              "      border-color: transparent;\n",
              "      border-bottom-color: var(--fill-color);\n",
              "      border-left-color: var(--fill-color);\n",
              "    }\n",
              "    20% {\n",
              "      border-color: transparent;\n",
              "      border-left-color: var(--fill-color);\n",
              "      border-top-color: var(--fill-color);\n",
              "    }\n",
              "    30% {\n",
              "      border-color: transparent;\n",
              "      border-left-color: var(--fill-color);\n",
              "      border-top-color: var(--fill-color);\n",
              "      border-right-color: var(--fill-color);\n",
              "    }\n",
              "    40% {\n",
              "      border-color: transparent;\n",
              "      border-right-color: var(--fill-color);\n",
              "      border-top-color: var(--fill-color);\n",
              "    }\n",
              "    60% {\n",
              "      border-color: transparent;\n",
              "      border-right-color: var(--fill-color);\n",
              "    }\n",
              "    80% {\n",
              "      border-color: transparent;\n",
              "      border-right-color: var(--fill-color);\n",
              "      border-bottom-color: var(--fill-color);\n",
              "    }\n",
              "    90% {\n",
              "      border-color: transparent;\n",
              "      border-bottom-color: var(--fill-color);\n",
              "    }\n",
              "  }\n",
              "</style>\n",
              "\n",
              "  <script>\n",
              "    async function quickchart(key) {\n",
              "      const quickchartButtonEl =\n",
              "        document.querySelector('#' + key + ' button');\n",
              "      quickchartButtonEl.disabled = true;  // To prevent multiple clicks.\n",
              "      quickchartButtonEl.classList.add('colab-df-spinner');\n",
              "      try {\n",
              "        const charts = await google.colab.kernel.invokeFunction(\n",
              "            'suggestCharts', [key], {});\n",
              "      } catch (error) {\n",
              "        console.error('Error during call to suggestCharts:', error);\n",
              "      }\n",
              "      quickchartButtonEl.classList.remove('colab-df-spinner');\n",
              "      quickchartButtonEl.classList.add('colab-df-quickchart-complete');\n",
              "    }\n",
              "    (() => {\n",
              "      let quickchartButtonEl =\n",
              "        document.querySelector('#df-2d03190f-973a-4bd0-a1d5-c0e3da5d626d button');\n",
              "      quickchartButtonEl.style.display =\n",
              "        google.colab.kernel.accessAllowed ? 'block' : 'none';\n",
              "    })();\n",
              "  </script>\n",
              "</div>\n",
              "\n",
              "  <div id=\"id_4427b183-81c6-42d9-ae5a-c686b85ad6bb\">\n",
              "    <style>\n",
              "      .colab-df-generate {\n",
              "        background-color: #E8F0FE;\n",
              "        border: none;\n",
              "        border-radius: 50%;\n",
              "        cursor: pointer;\n",
              "        display: none;\n",
              "        fill: #1967D2;\n",
              "        height: 32px;\n",
              "        padding: 0 0 0 0;\n",
              "        width: 32px;\n",
              "      }\n",
              "\n",
              "      .colab-df-generate:hover {\n",
              "        background-color: #E2EBFA;\n",
              "        box-shadow: 0px 1px 2px rgba(60, 64, 67, 0.3), 0px 1px 3px 1px rgba(60, 64, 67, 0.15);\n",
              "        fill: #174EA6;\n",
              "      }\n",
              "\n",
              "      [theme=dark] .colab-df-generate {\n",
              "        background-color: #3B4455;\n",
              "        fill: #D2E3FC;\n",
              "      }\n",
              "\n",
              "      [theme=dark] .colab-df-generate:hover {\n",
              "        background-color: #434B5C;\n",
              "        box-shadow: 0px 1px 3px 1px rgba(0, 0, 0, 0.15);\n",
              "        filter: drop-shadow(0px 1px 2px rgba(0, 0, 0, 0.3));\n",
              "        fill: #FFFFFF;\n",
              "      }\n",
              "    </style>\n",
              "    <button class=\"colab-df-generate\" onclick=\"generateWithVariable('df2')\"\n",
              "            title=\"Generate code using this dataframe.\"\n",
              "            style=\"display:none;\">\n",
              "\n",
              "  <svg xmlns=\"http://www.w3.org/2000/svg\" height=\"24px\"viewBox=\"0 0 24 24\"\n",
              "       width=\"24px\">\n",
              "    <path d=\"M7,19H8.4L18.45,9,17,7.55,7,17.6ZM5,21V16.75L18.45,3.32a2,2,0,0,1,2.83,0l1.4,1.43a1.91,1.91,0,0,1,.58,1.4,1.91,1.91,0,0,1-.58,1.4L9.25,21ZM18.45,9,17,7.55Zm-12,3A5.31,5.31,0,0,0,4.9,8.1,5.31,5.31,0,0,0,1,6.5,5.31,5.31,0,0,0,4.9,4.9,5.31,5.31,0,0,0,6.5,1,5.31,5.31,0,0,0,8.1,4.9,5.31,5.31,0,0,0,12,6.5,5.46,5.46,0,0,0,6.5,12Z\"/>\n",
              "  </svg>\n",
              "    </button>\n",
              "    <script>\n",
              "      (() => {\n",
              "      const buttonEl =\n",
              "        document.querySelector('#id_4427b183-81c6-42d9-ae5a-c686b85ad6bb button.colab-df-generate');\n",
              "      buttonEl.style.display =\n",
              "        google.colab.kernel.accessAllowed ? 'block' : 'none';\n",
              "\n",
              "      buttonEl.onclick = () => {\n",
              "        google.colab.notebook.generateWithVariable('df2');\n",
              "      }\n",
              "      })();\n",
              "    </script>\n",
              "  </div>\n",
              "\n",
              "    </div>\n",
              "  </div>\n"
            ],
            "application/vnd.google.colaboratory.intrinsic+json": {
              "type": "dataframe",
              "variable_name": "df2"
            }
          },
          "metadata": {},
          "execution_count": 9
        }
      ]
    },
    {
      "cell_type": "code",
      "source": [
        "A_5841 = (df1.loc['5841 CTBC Bank','Total current tax assets'] - df1.loc['5841 CTBC Bank','Total current tax liabilities'])/df1.loc['5841 CTBC Bank','Total assets']\n"
      ],
      "metadata": {
        "id": "TZlVHzVyY_4U"
      },
      "execution_count": 14,
      "outputs": []
    },
    {
      "cell_type": "code",
      "source": [
        "A_5841"
      ],
      "metadata": {
        "colab": {
          "base_uri": "https://localhost:8080/"
        },
        "id": "LnlSiP5RZ4vF",
        "outputId": "96b7e414-7bb4-49a6-d5fc-db4846071d83"
      },
      "execution_count": 15,
      "outputs": [
        {
          "output_type": "execute_result",
          "data": {
            "text/plain": [
              "-0.0008881919609685199"
            ]
          },
          "metadata": {},
          "execution_count": 15
        }
      ]
    },
    {
      "cell_type": "code",
      "source": [
        "X1 ='Total current tax assets'\n"
      ],
      "metadata": {
        "id": "b3SMpDYMbfJo"
      },
      "execution_count": 16,
      "outputs": []
    },
    {
      "cell_type": "code",
      "source": [
        "X2 ='Total current tax liabilities'\n"
      ],
      "metadata": {
        "id": "PvFptAvWbvhf"
      },
      "execution_count": 17,
      "outputs": []
    },
    {
      "cell_type": "code",
      "source": [
        "X3 ='Total assets'\n"
      ],
      "metadata": {
        "id": "f9v6ZFajb2dq"
      },
      "execution_count": 18,
      "outputs": []
    },
    {
      "cell_type": "code",
      "source": [
        "X4 ='Total retained earnings'\n"
      ],
      "metadata": {
        "id": "dn8affQMb4Qj"
      },
      "execution_count": 19,
      "outputs": []
    },
    {
      "cell_type": "code",
      "source": [
        "X5 ='Earnings Before Interest and Tax'\n"
      ],
      "metadata": {
        "id": "REzjLZrFb6QF"
      },
      "execution_count": 30,
      "outputs": []
    },
    {
      "cell_type": "code",
      "source": [
        "X6 ='Total equity'\n"
      ],
      "metadata": {
        "id": "2X27B6C_b8J5"
      },
      "execution_count": 21,
      "outputs": []
    },
    {
      "cell_type": "code",
      "source": [
        "X7 ='Total liabilities'\n"
      ],
      "metadata": {
        "id": "WP2TkGrib92h"
      },
      "execution_count": 34,
      "outputs": []
    },
    {
      "cell_type": "code",
      "source": [
        "X8 ='Net income'"
      ],
      "metadata": {
        "id": "bgvefX7kirQX"
      },
      "execution_count": 35,
      "outputs": []
    },
    {
      "cell_type": "code",
      "source": [
        "CTBC ='5841 CTBC Bank'\n"
      ],
      "metadata": {
        "id": "I7sA0HfXb_va"
      },
      "execution_count": 23,
      "outputs": []
    },
    {
      "cell_type": "code",
      "source": [
        "TCB ='5854 TCB'\n"
      ],
      "metadata": {
        "id": "1oPc2x0fcLy3"
      },
      "execution_count": 24,
      "outputs": []
    },
    {
      "cell_type": "code",
      "source": [
        "A_CTBC = (df1.loc[CTBC,X1] - df1.loc[CTBC,X2])/df1.loc[CTBC, X3]\n"
      ],
      "metadata": {
        "id": "Uf8PCAsLcV1q"
      },
      "execution_count": 25,
      "outputs": []
    },
    {
      "cell_type": "code",
      "source": [
        "B_CTBC = df1.loc[CTBC,X4]/df1.loc[CTBC, X3]\n"
      ],
      "metadata": {
        "id": "W0xSgt0McnHS"
      },
      "execution_count": 27,
      "outputs": []
    },
    {
      "cell_type": "code",
      "source": [
        "C_CTBC = df2.loc[CTBC,X5]/df1.loc[CTBC, X3]\n"
      ],
      "metadata": {
        "id": "0mroy4z6cuGQ"
      },
      "execution_count": 31,
      "outputs": []
    },
    {
      "cell_type": "code",
      "source": [
        "D_CTBC = df1.loc[CTBC,X6]/df1.loc[CTBC, X7]\n"
      ],
      "metadata": {
        "id": "nQex13ThddjM"
      },
      "execution_count": 36,
      "outputs": []
    },
    {
      "cell_type": "code",
      "source": [
        "E_CTBC = df2.loc[CTBC,X8]/df1.loc[CTBC, X3]\n"
      ],
      "metadata": {
        "id": "ljovPK5akRFe"
      },
      "execution_count": 39,
      "outputs": []
    },
    {
      "cell_type": "code",
      "source": [
        "Z_score_CTBC = 1.2*A_CTBC + 1.4*B_CTBC + 3.3*C_CTBC + 0.6*D_CTBC +1.0*E_CTBC\n"
      ],
      "metadata": {
        "id": "W-eAj1-hkg0r"
      },
      "execution_count": 41,
      "outputs": []
    },
    {
      "cell_type": "code",
      "source": [
        "Z_score_CTBC, A_CTBC, B_CTBC, C_CTBC, D_CTBC, E_CTBC\n"
      ],
      "metadata": {
        "colab": {
          "base_uri": "https://localhost:8080/"
        },
        "id": "4jzZ1Hlmktdp",
        "outputId": "3483e263-fe26-407c-9153-e3151300c4e4"
      },
      "execution_count": 42,
      "outputs": [
        {
          "output_type": "execute_result",
          "data": {
            "text/plain": [
              "(0.18382477540779013,\n",
              " -0.0008881919609685199,\n",
              " 0.0328139183987317,\n",
              " 0.022962067866892037,\n",
              " 0.06731039131546536,\n",
              " 0.02279006125270506)"
            ]
          },
          "metadata": {},
          "execution_count": 42
        }
      ]
    },
    {
      "cell_type": "code",
      "source": [
        "A_TCB = (df1.loc[TCB,X1] - df1.loc[TCB,X2])/df1.loc[TCB, X3]"
      ],
      "metadata": {
        "id": "Xxo7HqiGk4-O"
      },
      "execution_count": 43,
      "outputs": []
    },
    {
      "cell_type": "code",
      "source": [
        "B_TCB = df1.loc[TCB,X4]/df1.loc[TCB, X3]"
      ],
      "metadata": {
        "id": "RqaeV0fGlRm-"
      },
      "execution_count": 44,
      "outputs": []
    },
    {
      "cell_type": "code",
      "source": [
        "C_TCB = df2.loc[TCB,X5]/df1.loc[TCB, X3]"
      ],
      "metadata": {
        "id": "Slwjr0Q7lXrD"
      },
      "execution_count": 45,
      "outputs": []
    },
    {
      "cell_type": "code",
      "source": [
        "D_TCB = df1.loc[TCB,X6]/df1.loc[TCB, X7]"
      ],
      "metadata": {
        "id": "HgTdI3bdldZg"
      },
      "execution_count": 46,
      "outputs": []
    },
    {
      "cell_type": "code",
      "source": [
        "E_TCB = df2.loc[TCB,X8]/df1.loc[TCB, X3]"
      ],
      "metadata": {
        "id": "VsaPf54Vlmqy"
      },
      "execution_count": 47,
      "outputs": []
    },
    {
      "cell_type": "code",
      "source": [
        "Z_score_TCB = 1.2*A_TCB + 1.4*B_TCB + 3.3*C_TCB + 0.6*D_TCB +1.0*E_TCB"
      ],
      "metadata": {
        "id": "182TCfs2lr28"
      },
      "execution_count": 49,
      "outputs": []
    },
    {
      "cell_type": "code",
      "source": [
        "Z_score_TCB, A_TCB, B_TCB, C_TCB, D_TCB, E_TCB"
      ],
      "metadata": {
        "colab": {
          "base_uri": "https://localhost:8080/"
        },
        "id": "pe38In52l41A",
        "outputId": "a9ecef09-6e74-4966-e714-2af4e000e5b9"
      },
      "execution_count": 50,
      "outputs": [
        {
          "output_type": "execute_result",
          "data": {
            "text/plain": [
              "(0.13630048780921994,\n",
              " -0.00017663038048452328,\n",
              " 0.021634291845208292,\n",
              " 0.017505384302652135,\n",
              " 0.06083607917569787,\n",
              " 0.011955019978339018)"
            ]
          },
          "metadata": {},
          "execution_count": 50
        }
      ]
    },
    {
      "cell_type": "code",
      "source": [],
      "metadata": {
        "id": "yluqj1y_mGOI"
      },
      "execution_count": null,
      "outputs": []
    }
  ]
}